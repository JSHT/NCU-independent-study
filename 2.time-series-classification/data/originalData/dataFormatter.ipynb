{
 "cells": [
  {
   "cell_type": "code",
   "execution_count": 13,
   "id": "c51064f3-8455-46a3-b59d-e2768d1a91f9",
   "metadata": {},
   "outputs": [],
   "source": [
    "import numpy as np\n",
    "import matplotlib.pyplot as plt\n",
    "import csv\n",
    "from math import sqrt"
   ]
  },
  {
   "cell_type": "code",
   "execution_count": 14,
   "id": "96676b2d-1787-4290-871d-a7d36e476c5d",
   "metadata": {},
   "outputs": [],
   "source": [
    "def loadData(num):\n",
    "    x = []\n",
    "    y = []\n",
    "    z = []\n",
    "    path = 'data' + num + '.csv'\n",
    "    global counter\n",
    "    global formatData\n",
    "    with open(path, newline='', encoding='utf-8') as csvfile:\n",
    "        rows = csv.reader(csvfile)\n",
    "        for row in rows:\n",
    "            if counter == 20:\n",
    "                counter = 0\n",
    "                formatData.append([x, y, z, num])\n",
    "                x = []\n",
    "                y = []\n",
    "                z = []\n",
    "            x.append(float(row[1]))\n",
    "            y.append(float(row[2]))\n",
    "            z.append(float(row[3]))\n",
    "            counter+=1"
   ]
  },
  {
   "cell_type": "code",
   "execution_count": 15,
   "id": "37f50d10-7ea9-4376-bd93-0c79fb240437",
   "metadata": {},
   "outputs": [],
   "source": [
    "def outputData(num):\n",
    "    path = './generate-data/Data' + num + '.csv'\n",
    "    global formatData\n",
    "    with open(path, 'a', newline='', encoding='utf-8') as f:\n",
    "        writer = csv.writer(f)\n",
    "        writer.writerow(['x', 'y', 'z', 'class'])\n",
    "        for i in formatData:\n",
    "            writer.writerow(i)"
   ]
  },
  {
   "cell_type": "code",
   "execution_count": 16,
   "id": "c125838b-9202-4306-962c-9fefb07bb86b",
   "metadata": {},
   "outputs": [],
   "source": [
    "for i in range(1, 8):\n",
    "    formatData = []\n",
    "    counter = 0\n",
    "    # str(i) + '-2' or '-3' or ''\n",
    "    dataNum = str(i) + ''\n",
    "    loadData(dataNum)\n",
    "    outputData(dataNum)  "
   ]
  }
 ],
 "metadata": {
  "kernelspec": {
   "display_name": "Python 3",
   "language": "python",
   "name": "python3"
  },
  "language_info": {
   "codemirror_mode": {
    "name": "ipython",
    "version": 3
   },
   "file_extension": ".py",
   "mimetype": "text/x-python",
   "name": "python",
   "nbconvert_exporter": "python",
   "pygments_lexer": "ipython3",
   "version": "3.6.13"
  }
 },
 "nbformat": 4,
 "nbformat_minor": 5
}
