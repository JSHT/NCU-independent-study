{
 "cells": [
  {
   "cell_type": "code",
   "execution_count": 1,
   "id": "5d9ab0bc-e17c-41ad-a280-a87cb73ec47d",
   "metadata": {},
   "outputs": [],
   "source": [
    "# Dependencies\n",
    "# sktime: 0.9.0\n",
    "# scikit-learn: 0.24.2\n",
    "# numpy: 1.19.3\n",
    "# pandas 1.1.5\n",
    "# joblib: 1.1.0\n",
    "\n",
    "import matplotlib.pyplot as plt\n",
    "import numpy as np\n",
    "import pandas as pd\n",
    "import csv\n",
    "\n",
    "from math import sqrt\n",
    "\n",
    "from sklearn.utils import shuffle\n",
    "from sklearn.metrics import accuracy_score, precision_score, recall_score, f1_score, classification_report\n",
    "from sklearn.model_selection import train_test_split\n",
    "from sklearn.model_selection import cross_val_score\n",
    "\n",
    "from sklearn.ensemble import RandomForestClassifier\n",
    "\n",
    "from sklearn.pipeline import make_pipeline\n",
    "from sktime.transformations.panel.tsfresh import TSFreshFeatureExtractor\n",
    "\n",
    "import joblib"
   ]
  },
  {
   "cell_type": "code",
   "execution_count": 2,
   "id": "15fd66a6-654f-4757-8539-63c5e561303c",
   "metadata": {},
   "outputs": [],
   "source": [
    "X = []\n",
    "y = []"
   ]
  },
  {
   "cell_type": "code",
   "execution_count": 3,
   "id": "23c39774-4988-4601-b265-c92326251518",
   "metadata": {},
   "outputs": [],
   "source": [
    "for i in range(2, 8):\n",
    "    path = \"./data/formatData/Data\" + str(i) + '.csv'\n",
    "    with open(path, newline='') as csvFile:\n",
    "        rows = csv.reader(csvFile)\n",
    "        for row in rows:\n",
    "            # load XYZ train data\n",
    "            arrX = np.array(row[0][1:-1].split(', ')).astype(np.float)\n",
    "            arrY = np.array(row[1][1:-1].split(', ')).astype(np.float)\n",
    "            arrZ = np.array(row[2][1:-1].split(', ')).astype(np.float)\n",
    "            # cal relative acceleration\n",
    "            vibrate = []\n",
    "            for j in range(1, arrX.size):\n",
    "                acc = sqrt((arrX[j] - arrX[j-1])**2 + (arrY[j] - arrY[j-1])**2 + (arrZ[j] - arrZ[j-1])**2)*100\n",
    "                vibrate.append(acc)\n",
    "            X.append([pd.Series(vibrate)])\n",
    "            if int(row[3]) == 2:\n",
    "                y.append('0~2')\n",
    "            else:\n",
    "                y.append(row[3])"
   ]
  },
  {
   "cell_type": "code",
   "execution_count": 4,
   "id": "8a26ff68-32fc-4687-8b13-2d3ee2c8e95e",
   "metadata": {},
   "outputs": [],
   "source": [
    "random_state_num = 49"
   ]
  },
  {
   "cell_type": "code",
   "execution_count": 5,
   "id": "f66aef63-c451-4c64-a2bc-91c957c7ad64",
   "metadata": {},
   "outputs": [],
   "source": [
    "X = pd.DataFrame(X)\n",
    "y = pd.Series(y)"
   ]
  },
  {
   "cell_type": "code",
   "execution_count": 6,
   "id": "afb86643-aa48-4d8b-94f5-931fda31df8e",
   "metadata": {},
   "outputs": [
    {
     "name": "stdout",
     "output_type": "stream",
     "text": [
      "(1049, 1) (1049,) (150, 1) (150,)\n"
     ]
    }
   ],
   "source": [
    "X_train, X_valid, y_train, y_valid = train_test_split(X, y, test_size=0.125, random_state=random_state_num, stratify=y)\n",
    "print(X_train.shape, y_train.shape, X_valid.shape, y_valid.shape)"
   ]
  },
  {
   "cell_type": "code",
   "execution_count": 7,
   "id": "93d77fd1-e8ea-4383-a839-d9095476ac7b",
   "metadata": {},
   "outputs": [
    {
     "name": "stderr",
     "output_type": "stream",
     "text": [
      "Feature Extraction: 100%|████████████████████████████████████████████████████████████████| 5/5 [00:59<00:00, 11.87s/it]\n"
     ]
    },
    {
     "data": {
      "text/html": [
       "<div>\n",
       "<style scoped>\n",
       "    .dataframe tbody tr th:only-of-type {\n",
       "        vertical-align: middle;\n",
       "    }\n",
       "\n",
       "    .dataframe tbody tr th {\n",
       "        vertical-align: top;\n",
       "    }\n",
       "\n",
       "    .dataframe thead th {\n",
       "        text-align: right;\n",
       "    }\n",
       "</style>\n",
       "<table border=\"1\" class=\"dataframe\">\n",
       "  <thead>\n",
       "    <tr style=\"text-align: right;\">\n",
       "      <th></th>\n",
       "      <th>0__variance_larger_than_standard_deviation</th>\n",
       "      <th>0__has_duplicate_max</th>\n",
       "      <th>0__has_duplicate_min</th>\n",
       "      <th>0__has_duplicate</th>\n",
       "      <th>0__sum_values</th>\n",
       "      <th>0__abs_energy</th>\n",
       "      <th>0__mean_abs_change</th>\n",
       "      <th>0__mean_change</th>\n",
       "      <th>0__mean_second_derivative_central</th>\n",
       "      <th>0__median</th>\n",
       "      <th>...</th>\n",
       "      <th>0__permutation_entropy__dimension_5__tau_1</th>\n",
       "      <th>0__permutation_entropy__dimension_6__tau_1</th>\n",
       "      <th>0__permutation_entropy__dimension_7__tau_1</th>\n",
       "      <th>0__query_similarity_count__query_None__threshold_0.0</th>\n",
       "      <th>0__matrix_profile__feature_\"min\"__threshold_0.98</th>\n",
       "      <th>0__matrix_profile__feature_\"max\"__threshold_0.98</th>\n",
       "      <th>0__matrix_profile__feature_\"mean\"__threshold_0.98</th>\n",
       "      <th>0__matrix_profile__feature_\"median\"__threshold_0.98</th>\n",
       "      <th>0__matrix_profile__feature_\"25\"__threshold_0.98</th>\n",
       "      <th>0__matrix_profile__feature_\"75\"__threshold_0.98</th>\n",
       "    </tr>\n",
       "  </thead>\n",
       "  <tbody>\n",
       "    <tr>\n",
       "      <th>547</th>\n",
       "      <td>1.0</td>\n",
       "      <td>0.0</td>\n",
       "      <td>0.0</td>\n",
       "      <td>1.0</td>\n",
       "      <td>406.165663</td>\n",
       "      <td>14864.094585</td>\n",
       "      <td>13.115031</td>\n",
       "      <td>-2.494272</td>\n",
       "      <td>-0.377597</td>\n",
       "      <td>16.173542</td>\n",
       "      <td>...</td>\n",
       "      <td>2.708050</td>\n",
       "      <td>2.639057</td>\n",
       "      <td>2.564949</td>\n",
       "      <td>0.0</td>\n",
       "      <td>0.739362</td>\n",
       "      <td>4.571277</td>\n",
       "      <td>3.592298</td>\n",
       "      <td>4.320541</td>\n",
       "      <td>4.016876</td>\n",
       "      <td>4.385688</td>\n",
       "    </tr>\n",
       "    <tr>\n",
       "      <th>39</th>\n",
       "      <td>1.0</td>\n",
       "      <td>0.0</td>\n",
       "      <td>0.0</td>\n",
       "      <td>1.0</td>\n",
       "      <td>118.793893</td>\n",
       "      <td>861.686643</td>\n",
       "      <td>2.540539</td>\n",
       "      <td>0.159533</td>\n",
       "      <td>0.000000</td>\n",
       "      <td>5.547479</td>\n",
       "      <td>...</td>\n",
       "      <td>2.615631</td>\n",
       "      <td>2.639057</td>\n",
       "      <td>2.564949</td>\n",
       "      <td>0.0</td>\n",
       "      <td>0.739362</td>\n",
       "      <td>4.571277</td>\n",
       "      <td>3.592298</td>\n",
       "      <td>4.320541</td>\n",
       "      <td>4.016876</td>\n",
       "      <td>4.385688</td>\n",
       "    </tr>\n",
       "    <tr>\n",
       "      <th>514</th>\n",
       "      <td>1.0</td>\n",
       "      <td>0.0</td>\n",
       "      <td>0.0</td>\n",
       "      <td>0.0</td>\n",
       "      <td>442.385503</td>\n",
       "      <td>12540.618103</td>\n",
       "      <td>11.862579</td>\n",
       "      <td>0.514064</td>\n",
       "      <td>-0.318913</td>\n",
       "      <td>19.613300</td>\n",
       "      <td>...</td>\n",
       "      <td>2.708050</td>\n",
       "      <td>2.639057</td>\n",
       "      <td>2.564949</td>\n",
       "      <td>0.0</td>\n",
       "      <td>0.739362</td>\n",
       "      <td>4.571277</td>\n",
       "      <td>3.592298</td>\n",
       "      <td>4.320541</td>\n",
       "      <td>4.016876</td>\n",
       "      <td>4.385688</td>\n",
       "    </tr>\n",
       "    <tr>\n",
       "      <th>377</th>\n",
       "      <td>1.0</td>\n",
       "      <td>0.0</td>\n",
       "      <td>1.0</td>\n",
       "      <td>1.0</td>\n",
       "      <td>116.318412</td>\n",
       "      <td>784.750335</td>\n",
       "      <td>1.713749</td>\n",
       "      <td>0.046510</td>\n",
       "      <td>0.214262</td>\n",
       "      <td>5.547479</td>\n",
       "      <td>...</td>\n",
       "      <td>2.708050</td>\n",
       "      <td>2.639057</td>\n",
       "      <td>2.564949</td>\n",
       "      <td>0.0</td>\n",
       "      <td>0.739362</td>\n",
       "      <td>4.571277</td>\n",
       "      <td>3.592298</td>\n",
       "      <td>4.320541</td>\n",
       "      <td>4.016876</td>\n",
       "      <td>4.385688</td>\n",
       "    </tr>\n",
       "    <tr>\n",
       "      <th>671</th>\n",
       "      <td>1.0</td>\n",
       "      <td>0.0</td>\n",
       "      <td>0.0</td>\n",
       "      <td>0.0</td>\n",
       "      <td>713.255232</td>\n",
       "      <td>29189.635019</td>\n",
       "      <td>9.924329</td>\n",
       "      <td>1.560682</td>\n",
       "      <td>-0.042968</td>\n",
       "      <td>37.213620</td>\n",
       "      <td>...</td>\n",
       "      <td>2.615631</td>\n",
       "      <td>2.639057</td>\n",
       "      <td>2.564949</td>\n",
       "      <td>0.0</td>\n",
       "      <td>0.739362</td>\n",
       "      <td>4.571277</td>\n",
       "      <td>3.592298</td>\n",
       "      <td>4.320541</td>\n",
       "      <td>4.016876</td>\n",
       "      <td>4.385688</td>\n",
       "    </tr>\n",
       "  </tbody>\n",
       "</table>\n",
       "<p>5 rows × 781 columns</p>\n",
       "</div>"
      ],
      "text/plain": [
       "     0__variance_larger_than_standard_deviation  0__has_duplicate_max  \\\n",
       "547                                         1.0                   0.0   \n",
       "39                                          1.0                   0.0   \n",
       "514                                         1.0                   0.0   \n",
       "377                                         1.0                   0.0   \n",
       "671                                         1.0                   0.0   \n",
       "\n",
       "     0__has_duplicate_min  0__has_duplicate  0__sum_values  0__abs_energy  \\\n",
       "547                   0.0               1.0     406.165663   14864.094585   \n",
       "39                    0.0               1.0     118.793893     861.686643   \n",
       "514                   0.0               0.0     442.385503   12540.618103   \n",
       "377                   1.0               1.0     116.318412     784.750335   \n",
       "671                   0.0               0.0     713.255232   29189.635019   \n",
       "\n",
       "     0__mean_abs_change  0__mean_change  0__mean_second_derivative_central  \\\n",
       "547           13.115031       -2.494272                          -0.377597   \n",
       "39             2.540539        0.159533                           0.000000   \n",
       "514           11.862579        0.514064                          -0.318913   \n",
       "377            1.713749        0.046510                           0.214262   \n",
       "671            9.924329        1.560682                          -0.042968   \n",
       "\n",
       "     0__median  ...  0__permutation_entropy__dimension_5__tau_1  \\\n",
       "547  16.173542  ...                                    2.708050   \n",
       "39    5.547479  ...                                    2.615631   \n",
       "514  19.613300  ...                                    2.708050   \n",
       "377   5.547479  ...                                    2.708050   \n",
       "671  37.213620  ...                                    2.615631   \n",
       "\n",
       "     0__permutation_entropy__dimension_6__tau_1  \\\n",
       "547                                    2.639057   \n",
       "39                                     2.639057   \n",
       "514                                    2.639057   \n",
       "377                                    2.639057   \n",
       "671                                    2.639057   \n",
       "\n",
       "     0__permutation_entropy__dimension_7__tau_1  \\\n",
       "547                                    2.564949   \n",
       "39                                     2.564949   \n",
       "514                                    2.564949   \n",
       "377                                    2.564949   \n",
       "671                                    2.564949   \n",
       "\n",
       "     0__query_similarity_count__query_None__threshold_0.0  \\\n",
       "547                                                0.0      \n",
       "39                                                 0.0      \n",
       "514                                                0.0      \n",
       "377                                                0.0      \n",
       "671                                                0.0      \n",
       "\n",
       "     0__matrix_profile__feature_\"min\"__threshold_0.98  \\\n",
       "547                                          0.739362   \n",
       "39                                           0.739362   \n",
       "514                                          0.739362   \n",
       "377                                          0.739362   \n",
       "671                                          0.739362   \n",
       "\n",
       "     0__matrix_profile__feature_\"max\"__threshold_0.98  \\\n",
       "547                                          4.571277   \n",
       "39                                           4.571277   \n",
       "514                                          4.571277   \n",
       "377                                          4.571277   \n",
       "671                                          4.571277   \n",
       "\n",
       "     0__matrix_profile__feature_\"mean\"__threshold_0.98  \\\n",
       "547                                           3.592298   \n",
       "39                                            3.592298   \n",
       "514                                           3.592298   \n",
       "377                                           3.592298   \n",
       "671                                           3.592298   \n",
       "\n",
       "     0__matrix_profile__feature_\"median\"__threshold_0.98  \\\n",
       "547                                           4.320541     \n",
       "39                                            4.320541     \n",
       "514                                           4.320541     \n",
       "377                                           4.320541     \n",
       "671                                           4.320541     \n",
       "\n",
       "     0__matrix_profile__feature_\"25\"__threshold_0.98  \\\n",
       "547                                         4.016876   \n",
       "39                                          4.016876   \n",
       "514                                         4.016876   \n",
       "377                                         4.016876   \n",
       "671                                         4.016876   \n",
       "\n",
       "     0__matrix_profile__feature_\"75\"__threshold_0.98  \n",
       "547                                         4.385688  \n",
       "39                                          4.385688  \n",
       "514                                         4.385688  \n",
       "377                                         4.385688  \n",
       "671                                         4.385688  \n",
       "\n",
       "[5 rows x 781 columns]"
      ]
     },
     "execution_count": 7,
     "metadata": {},
     "output_type": "execute_result"
    }
   ],
   "source": [
    "t = TSFreshFeatureExtractor(default_fc_parameters=\"efficient\", show_warnings=False)\n",
    "Xt = t.fit_transform(X_train)\n",
    "Xt.head()"
   ]
  },
  {
   "cell_type": "code",
   "execution_count": 8,
   "id": "b643d077-ba00-453d-a83f-7731bf570c16",
   "metadata": {},
   "outputs": [],
   "source": [
    "classifier = make_pipeline(\n",
    "    t,\n",
    "    RandomForestClassifier(random_state=random_state_num),\n",
    ")"
   ]
  },
  {
   "cell_type": "code",
   "execution_count": 9,
   "id": "c5b3c632-ac42-4f15-b61f-dd7016f174fb",
   "metadata": {},
   "outputs": [
    {
     "name": "stderr",
     "output_type": "stream",
     "text": [
      "Feature Extraction: 100%|████████████████████████████████████████████████████████████████| 5/5 [00:50<00:00, 10.19s/it]\n",
      "Feature Extraction: 100%|████████████████████████████████████████████████████████████████| 5/5 [00:10<00:00,  2.10s/it]\n",
      "Feature Extraction: 100%|████████████████████████████████████████████████████████████████| 5/5 [00:51<00:00, 10.24s/it]\n",
      "Feature Extraction: 100%|████████████████████████████████████████████████████████████████| 5/5 [00:11<00:00,  2.22s/it]\n",
      "Feature Extraction: 100%|████████████████████████████████████████████████████████████████| 5/5 [00:48<00:00,  9.75s/it]\n",
      "Feature Extraction: 100%|████████████████████████████████████████████████████████████████| 5/5 [00:10<00:00,  2.03s/it]\n",
      "Feature Extraction: 100%|████████████████████████████████████████████████████████████████| 5/5 [00:47<00:00,  9.54s/it]\n",
      "Feature Extraction: 100%|████████████████████████████████████████████████████████████████| 5/5 [00:09<00:00,  1.99s/it]\n",
      "Feature Extraction: 100%|████████████████████████████████████████████████████████████████| 5/5 [00:46<00:00,  9.36s/it]\n",
      "Feature Extraction: 100%|████████████████████████████████████████████████████████████████| 5/5 [00:09<00:00,  1.96s/it]\n",
      "Feature Extraction: 100%|████████████████████████████████████████████████████████████████| 5/5 [00:47<00:00,  9.48s/it]\n",
      "Feature Extraction: 100%|████████████████████████████████████████████████████████████████| 5/5 [00:10<00:00,  2.03s/it]\n",
      "Feature Extraction: 100%|████████████████████████████████████████████████████████████████| 5/5 [00:49<00:00,  9.95s/it]\n",
      "Feature Extraction: 100%|████████████████████████████████████████████████████████████████| 5/5 [00:15<00:00,  3.18s/it]\n"
     ]
    },
    {
     "name": "stdout",
     "output_type": "stream",
     "text": [
      "[0.8        0.86       0.86       0.79333333 0.79333333 0.81333333\n",
      " 0.81879195]\n",
      "0.8198274209012464\n"
     ]
    }
   ],
   "source": [
    "scores = cross_val_score(classifier, X_train, y_train, scoring=\"accuracy\", cv=7)\n",
    "print(scores)\n",
    "print(scores.mean())"
   ]
  },
  {
   "cell_type": "code",
   "execution_count": 10,
   "id": "4ce9d36c-3c01-4229-a453-094f22d9a7fd",
   "metadata": {},
   "outputs": [
    {
     "name": "stderr",
     "output_type": "stream",
     "text": [
      "Feature Extraction: 100%|████████████████████████████████████████████████████████████████| 5/5 [01:04<00:00, 12.84s/it]\n",
      "Feature Extraction: 100%|████████████████████████████████████████████████████████████████| 5/5 [00:10<00:00,  2.18s/it]\n"
     ]
    },
    {
     "name": "stdout",
     "output_type": "stream",
     "text": [
      "accuracy: 0.8466666666666667\n"
     ]
    }
   ],
   "source": [
    "classifier.fit(X_train, y_train)\n",
    "print('accuracy: ' + str(classifier.score(X_valid, y_valid)))"
   ]
  },
  {
   "cell_type": "code",
   "execution_count": 11,
   "id": "af8e0e2f-1369-4bd8-8b2b-07a4bf2115f7",
   "metadata": {},
   "outputs": [
    {
     "name": "stderr",
     "output_type": "stream",
     "text": [
      "Feature Extraction: 100%|████████████████████████████████████████████████████████████████| 5/5 [00:10<00:00,  2.17s/it]\n"
     ]
    },
    {
     "name": "stdout",
     "output_type": "stream",
     "text": [
      "              precision    recall  f1-score   support\n",
      "\n",
      "         0~2       0.85      0.88      0.86        25\n",
      "           3       0.79      0.76      0.78        25\n",
      "           4       0.92      0.92      0.92        25\n",
      "           5       0.85      0.92      0.88        25\n",
      "           6       0.82      0.72      0.77        25\n",
      "           7       0.85      0.88      0.86        25\n",
      "\n",
      "    accuracy                           0.85       150\n",
      "   macro avg       0.85      0.85      0.85       150\n",
      "weighted avg       0.85      0.85      0.85       150\n",
      "\n"
     ]
    }
   ],
   "source": [
    "y_pred = classifier.predict(X_valid)\n",
    "# f1_score(y_valid, y_pred, average=\"weighted\")\n",
    "print(classification_report(y_valid, y_pred))"
   ]
  },
  {
   "cell_type": "code",
   "execution_count": 12,
   "id": "65fbc642-15e1-49e1-b0ab-c759e40ce931",
   "metadata": {},
   "outputs": [
    {
     "name": "stdout",
     "output_type": "stream",
     "text": [
      "0.8466666666666667\n"
     ]
    }
   ],
   "source": [
    "print(accuracy_score(y_valid, y_pred))"
   ]
  },
  {
   "cell_type": "code",
   "execution_count": 13,
   "id": "e306fb7d-6693-4fc1-9909-876ad4eb1fae",
   "metadata": {},
   "outputs": [],
   "source": [
    "valid_predict = np.array(y_pred)\n",
    "valid_reality = np.array(y_valid)"
   ]
  },
  {
   "cell_type": "code",
   "execution_count": 14,
   "id": "2eed1783-4e0e-4447-be6d-247b01712619",
   "metadata": {},
   "outputs": [
    {
     "data": {
      "text/plain": [
       "['modelwithTsFresh']"
      ]
     },
     "execution_count": 14,
     "metadata": {},
     "output_type": "execute_result"
    }
   ],
   "source": [
    "joblib.dump(classifier, 'modelwithTsFresh')"
   ]
  }
 ],
 "metadata": {
  "kernelspec": {
   "display_name": "Python 3",
   "language": "python",
   "name": "python3"
  },
  "language_info": {
   "codemirror_mode": {
    "name": "ipython",
    "version": 3
   },
   "file_extension": ".py",
   "mimetype": "text/x-python",
   "name": "python",
   "nbconvert_exporter": "python",
   "pygments_lexer": "ipython3",
   "version": "3.6.13"
  }
 },
 "nbformat": 4,
 "nbformat_minor": 5
}
